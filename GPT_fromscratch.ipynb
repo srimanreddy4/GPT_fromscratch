{
  "nbformat": 4,
  "nbformat_minor": 0,
  "metadata": {
    "colab": {
      "provenance": [],
      "gpuType": "T4"
    },
    "kernelspec": {
      "name": "python3",
      "display_name": "Python 3"
    },
    "language_info": {
      "name": "python"
    },
    "accelerator": "GPU"
  },
  "cells": [
    {
      "cell_type": "code",
      "execution_count": null,
      "metadata": {
        "colab": {
          "base_uri": "https://localhost:8080/"
        },
        "id": "VRkNMkB2VSFS",
        "outputId": "6c636794-b342-42e0-df76-3ffee2aa8c18"
      },
      "outputs": [
        {
          "output_type": "stream",
          "name": "stdout",
          "text": [
            "--2024-01-21 08:57:50--  https://raw.githubusercontent.com/karpathy/char-rnn/master/data/tinyshakespeare/input.txt\n",
            "Resolving raw.githubusercontent.com (raw.githubusercontent.com)... 185.199.109.133, 185.199.108.133, 185.199.110.133, ...\n",
            "Connecting to raw.githubusercontent.com (raw.githubusercontent.com)|185.199.109.133|:443... connected.\n",
            "HTTP request sent, awaiting response... 200 OK\n",
            "Length: 1115394 (1.1M) [text/plain]\n",
            "Saving to: ‘input.txt’\n",
            "\n",
            "\rinput.txt             0%[                    ]       0  --.-KB/s               \rinput.txt           100%[===================>]   1.06M  --.-KB/s    in 0.05s   \n",
            "\n",
            "2024-01-21 08:57:51 (20.0 MB/s) - ‘input.txt’ saved [1115394/1115394]\n",
            "\n"
          ]
        }
      ],
      "source": [
        "## Loading and choosing the dataset\n",
        "\n",
        "!wget https://raw.githubusercontent.com/karpathy/char-rnn/master/data/tinyshakespeare/input.txt"
      ]
    },
    {
      "cell_type": "code",
      "source": [
        "with open('input.txt','r', encoding=\"utf-8\") as f:\n",
        "  text=f.read()\n",
        "print(\"length of the dataset is\", len(text))"
      ],
      "metadata": {
        "colab": {
          "base_uri": "https://localhost:8080/"
        },
        "id": "YVXW9yfbYXO3",
        "outputId": "8ac96be1-a324-4fea-94c3-8f8b2536828d"
      },
      "execution_count": null,
      "outputs": [
        {
          "output_type": "stream",
          "name": "stdout",
          "text": [
            "length of the dataset is 1115394\n"
          ]
        }
      ]
    },
    {
      "cell_type": "code",
      "source": [
        "## now need to tokenize the dataset\n",
        "\n",
        "## We will use a character level tokenizer (using the simplest one here), simply mapping all the different charcters to integers\n",
        "\n",
        "# print(len(set(text)))\n",
        "\n",
        "## We have 65 characters, doing tokenization manually now\n",
        "\n",
        "all_char=list(set(text))\n",
        "encod={}\n",
        "decod={}\n",
        "for i,x in enumerate(all_char) :\n",
        "  encod[x]=i\n",
        "  decod[i]=x\n",
        "\n",
        "def encode(data) :\n",
        "  l=list(data)\n",
        "  return [encod[x] for x in l]\n",
        "def decode(data) :\n",
        "  l=list(data)\n",
        "  return [decod[i] for i in l]\n",
        "\n",
        "import torch\n",
        "encoded_data=torch.tensor(encode(text),dtype=torch.long)\n",
        "encoded_data[:100]\n",
        "\n",
        "# print(encode(\"Let's build it from scratch\"))\n",
        "\n",
        "##now the data is ready, and encoded"
      ],
      "metadata": {
        "colab": {
          "base_uri": "https://localhost:8080/"
        },
        "id": "Qbe4OfnsgIC8",
        "outputId": "55816900-214a-41f4-c84c-5e56f3f6e2f4"
      },
      "execution_count": null,
      "outputs": [
        {
          "output_type": "execute_result",
          "data": {
            "text/plain": [
              "tensor([28,  8, 45, 61, 54, 49, 51,  8, 54,  8, 27, 33, 47,  1, 58, 56, 33, 25,\n",
              "        44, 45, 33, 49, 34, 33, 49, 11, 45, 44, 39, 33, 33, 32, 49, 50, 47, 59,\n",
              "        49, 25, 57, 45, 54,  7, 33, 45, 17, 49,  7, 33, 50, 45, 49, 52, 33, 49,\n",
              "        61, 11, 33, 50, 20, 53, 58, 58, 31, 12, 12,  1, 58, 48, 11, 33, 50, 20,\n",
              "        17, 49, 61, 11, 33, 50, 20, 53, 58, 58, 28,  8, 45, 61, 54, 49, 51,  8,\n",
              "        54,  8, 27, 33, 47,  1, 58, 35, 44, 57])"
            ]
          },
          "metadata": {},
          "execution_count": 3
        }
      ]
    },
    {
      "cell_type": "code",
      "source": [
        "n = int(0.9*len(encoded_data)) # first 90% will be train, rest val\n",
        "train_data = encoded_data[:n]\n",
        "val_data = encoded_data[n:]"
      ],
      "metadata": {
        "id": "a-yXIGNqajtK"
      },
      "execution_count": null,
      "outputs": []
    },
    {
      "cell_type": "code",
      "source": [
        "##Now we want our main point that is model to predict the next word given the sequence\n",
        "\n",
        "## Before thaT a couple of other things that should be known, that are batch size, block size\n",
        "\n",
        "## SO now our aim is create data for the model to learn, input and the targets\n",
        "\n",
        "torch.manual_seed(42)\n",
        "\n",
        "batch_size=4\n",
        "block_size=8\n",
        "\n",
        "def batch(data) :\n",
        "  ix = torch.randint(len(data) - block_size, (batch_size,))\n",
        "  x = torch.stack([data[i:i+block_size] for i in ix])\n",
        "  y = torch.stack([data[i+1:i+block_size+1] for i in ix])\n",
        "  return x, y\n",
        "\n",
        "xb, yb = batch(encoded_data)\n",
        "\n",
        "for b in range(batch_size): # batch dimension\n",
        "    for t in range(block_size): # time dimension\n",
        "        context = xb[b, :t+1]\n",
        "        target = yb[b,t]\n",
        "        print(f\"when input is {context.tolist()} the target: {target}\")\n",
        "\n",
        "## now the data is ready, this is how we want our data\n",
        "\n"
      ],
      "metadata": {
        "colab": {
          "base_uri": "https://localhost:8080/"
        },
        "id": "u_lUla-xigcb",
        "outputId": "0f8e45ef-dade-41ed-b31e-9171996ea38a"
      },
      "execution_count": null,
      "outputs": [
        {
          "output_type": "stream",
          "name": "stdout",
          "text": [
            "when input is [32] the target: 49\n",
            "when input is [32, 49] the target: 54\n",
            "when input is [32, 49, 54] the target: 7\n",
            "when input is [32, 49, 54, 7] the target: 57\n",
            "when input is [32, 49, 54, 7, 57] the target: 61\n",
            "when input is [32, 49, 54, 7, 57, 61] the target: 49\n",
            "when input is [32, 49, 54, 7, 57, 61, 49] the target: 18\n",
            "when input is [32, 49, 54, 7, 57, 61, 49, 18] the target: 49\n",
            "when input is [11] the target: 45\n",
            "when input is [11, 45] the target: 8\n",
            "when input is [11, 45, 8] the target: 33\n",
            "when input is [11, 45, 8, 33] the target: 61\n",
            "when input is [11, 45, 8, 33, 61] the target: 54\n",
            "when input is [11, 45, 8, 33, 61, 54] the target: 55\n",
            "when input is [11, 45, 8, 33, 61, 54, 55] the target: 58\n",
            "when input is [11, 45, 8, 33, 61, 54, 55, 58] the target: 35\n",
            "when input is [20] the target: 8\n",
            "when input is [20, 8] the target: 47\n",
            "when input is [20, 8, 47] the target: 41\n",
            "when input is [20, 8, 47, 41] the target: 46\n",
            "when input is [20, 8, 47, 41, 46] the target: 49\n",
            "when input is [20, 8, 47, 41, 46, 49] the target: 54\n",
            "when input is [20, 8, 47, 41, 46, 49, 54] the target: 7\n",
            "when input is [20, 8, 47, 41, 46, 49, 54, 7] the target: 44\n",
            "when input is [54] the target: 7\n",
            "when input is [54, 7] the target: 44\n",
            "when input is [54, 7, 44] the target: 57\n",
            "when input is [54, 7, 44, 57] the target: 54\n",
            "when input is [54, 7, 44, 57, 54] the target: 49\n",
            "when input is [54, 7, 44, 57, 54, 49] the target: 45\n",
            "when input is [54, 7, 44, 57, 54, 49, 45] the target: 33\n",
            "when input is [54, 7, 44, 57, 54, 49, 45, 33] the target: 32\n"
          ]
        }
      ]
    },
    {
      "cell_type": "code",
      "source": [
        "## Now let's get build a basic bigram neural network which can serve as a basic architecture for our transformer\n",
        "\n",
        "import torch.nn as nn\n",
        "import torch.optim as optim\n",
        "\n",
        "from torch.nn import functional as F\n",
        "torch.manual_seed(42)\n",
        "\n",
        "class BigramModel(nn.Module) :\n",
        "  def __init__(self, vocab_size) :\n",
        "    super().__init__()\n",
        "    self.word_embedding=nn.Embedding(vocab_size,vocab_size)\n",
        "\n",
        "  def forward(self, idx, targets=None):\n",
        "\n",
        "        # idx and targets are both (B,T) tensor of integers\n",
        "        logits = self.word_embedding(idx) # (B,T,C)\n",
        "\n",
        "        if targets is None:\n",
        "            loss = None\n",
        "        else:\n",
        "            B, T, C = logits.shape\n",
        "            logits = logits.view(B*T, C)\n",
        "            targets = targets.view(B*T)\n",
        "            loss = F.cross_entropy(logits, targets)\n",
        "\n",
        "        return logits, loss\n",
        "\n",
        "  def generate(self, idx, max_new_tokens):\n",
        "        # idx is (B, T) array of indices in the current context\n",
        "        for _ in range(max_new_tokens):\n",
        "            # get the predictions\n",
        "            logits, loss = self(idx)\n",
        "            # focus only on the last time step\n",
        "            logits = logits[:, -1, :] # becomes (B, C)\n",
        "            # apply softmax to get probabilities\n",
        "            probs = F.softmax(logits, dim=-1) # (B, C)\n",
        "            # sample from the distribution\n",
        "            idx_next = torch.multinomial(probs, num_samples=1) # (B, 1)\n",
        "            # append sampled index to the running sequence\n",
        "            idx = torch.cat((idx, idx_next), dim=1) # (B, T+1)\n",
        "        return idx\n",
        "\n",
        "model=BigramModel(len(all_char))\n",
        "logits,loss=model(xb,yb)\n",
        "print(loss)"
      ],
      "metadata": {
        "colab": {
          "base_uri": "https://localhost:8080/"
        },
        "id": "yzFhQugFsQ4w",
        "outputId": "f139be8a-3f8f-4802-f374-b0ba3a4830b3"
      },
      "execution_count": null,
      "outputs": [
        {
          "output_type": "stream",
          "name": "stdout",
          "text": [
            "tensor(4.3964, grad_fn=<NllLossBackward0>)\n"
          ]
        }
      ]
    },
    {
      "cell_type": "code",
      "source": [
        "## yes now we have done it, but we haven't trained the neural network yet, so let's use the adam optimizer to train the model\n",
        "\n",
        "optimizer = torch.optim.AdamW(model.parameters(), lr=1e-3)\n",
        "\n",
        "batch_size = 32\n",
        "for steps in range(1000): # increase number of steps for good results...\n",
        "\n",
        "    # sample a batch of data\n",
        "    xb, yb = batch(train_data)\n",
        "\n",
        "    # evaluate the loss\n",
        "    logits, loss = model(xb, yb)\n",
        "    optimizer.zero_grad(set_to_none=True)\n",
        "    loss.backward()\n",
        "    optimizer.step()\n",
        "\n",
        "print(loss.item())"
      ],
      "metadata": {
        "id": "bzFGzB_rPo_h",
        "colab": {
          "base_uri": "https://localhost:8080/"
        },
        "outputId": "a6613243-f82d-42f5-b56c-bb3095f8248b"
      },
      "execution_count": null,
      "outputs": [
        {
          "output_type": "stream",
          "name": "stdout",
          "text": [
            "3.5698421001434326\n"
          ]
        }
      ]
    },
    {
      "cell_type": "markdown",
      "source": [
        "**Now the basic architecture is done, now it's all about how we get attention into this architecture**"
      ],
      "metadata": {
        "id": "t5DX346NbMxx"
      }
    },
    {
      "cell_type": "code",
      "source": [
        "import torch\n",
        "import torch.nn as nn\n",
        "import torch.nn.functional as F\n",
        "\n",
        "# Setting hyperparameters\n",
        "n_embd = 64              # Embedding dimension\n",
        "n_head = 4               # Number of attention heads\n",
        "n_layer = 4              # Number of transformer blocks\n",
        "dropout = 0.1            # Dropout rate\n"
      ],
      "metadata": {
        "id": "_uPtuXgybKPq"
      },
      "execution_count": 2,
      "outputs": []
    },
    {
      "cell_type": "code",
      "source": [
        "class MultiHeadAttention(nn.Module):\n",
        "    def __init__(self, embed_size, heads):\n",
        "        super().__init__()\n",
        "        self.embed_size = embed_size\n",
        "        self.heads = heads\n",
        "        self.head_dim = embed_size // heads\n",
        "\n",
        "        assert self.head_dim * heads == embed_size, \"Embed size needs to be divisible by heads\"\n",
        "\n",
        "        self.values = nn.Linear(self.head_dim, self.head_dim, bias=False)\n",
        "        self.keys = nn.Linear(self.head_dim, self.head_dim, bias=False)\n",
        "        self.queries = nn.Linear(self.head_dim, self.head_dim, bias=False)\n",
        "        self.fc_out = nn.Linear(heads * self.head_dim, embed_size)\n",
        "\n",
        "    def forward(self, value, key, query):\n",
        "        # Split the input for multi-head attention\n",
        "        N = query.shape[0]\n",
        "        value_len, key_len, query_len = value.shape[1], key.shape[1], query.shape[1]\n",
        "\n",
        "        # Split the embedding into self.heads pieces\n",
        "        values = self.values(value).view(N, value_len, self.heads, self.head_dim)\n",
        "        keys = self.keys(key).view(N, key_len, self.heads, self.head_dim)\n",
        "        queries = self.queries(query).view(N, query_len, self.heads, self.head_dim)\n",
        "\n",
        "        # Attention mechanism (scaled dot-product attention)\n",
        "        attention = torch.einsum(\"nqhd,nkhd->nhqk\", [queries, keys])\n",
        "\n",
        "        # Apply softmax and dropout\n",
        "        attention = torch.softmax(attention / (self.embed_size ** (1 / 2)), dim=-1)\n",
        "\n",
        "        out = torch.einsum(\"nhql,nlhd->nqhd\", [attention, values]).reshape(N, query_len, self.heads * self.head_dim)\n",
        "        out = self.fc_out(out)\n",
        "        return out\n"
      ],
      "metadata": {
        "id": "Tku51oV27_sz"
      },
      "execution_count": 3,
      "outputs": []
    },
    {
      "cell_type": "code",
      "source": [
        "class FeedForward(nn.Module):\n",
        "    def __init__(self, embed_size):\n",
        "        super().__init__()\n",
        "        self.fc1 = nn.Linear(embed_size, embed_size * 4)\n",
        "        self.fc2 = nn.Linear(embed_size * 4, embed_size)\n",
        "        self.dropout = nn.Dropout(dropout)\n",
        "\n",
        "    def forward(self, x):\n",
        "        x = F.relu(self.fc1(x))\n",
        "        x = self.dropout(x)\n",
        "        x = self.fc2(x)\n",
        "        return x\n"
      ],
      "metadata": {
        "id": "jFydLMbK8Wf3"
      },
      "execution_count": 4,
      "outputs": []
    },
    {
      "cell_type": "code",
      "source": [
        "class TransformerBlock(nn.Module):\n",
        "    def __init__(self, embed_size, heads):\n",
        "        super().__init__()\n",
        "        self.attention = MultiHeadAttention(embed_size, heads)\n",
        "        self.norm1 = nn.LayerNorm(embed_size)\n",
        "        self.norm2 = nn.LayerNorm(embed_size)\n",
        "        self.feed_forward = FeedForward(embed_size)\n",
        "        self.dropout = nn.Dropout(dropout)\n",
        "\n",
        "    def forward(self, value, key, query):\n",
        "        attention = self.attention(value, key, query)\n",
        "\n",
        "        # Add skip connection, followed by LayerNorm\n",
        "        x = self.norm1(attention + query)\n",
        "        forward = self.feed_forward(x)\n",
        "\n",
        "        # Second skip connection and LayerNorm\n",
        "        out = self.norm2(forward + x)\n",
        "        return out\n"
      ],
      "metadata": {
        "id": "PtcKuwHxMgiv"
      },
      "execution_count": 5,
      "outputs": []
    },
    {
      "cell_type": "code",
      "source": [
        "class GPT(nn.Module):\n",
        "    def __init__(self, vocab_size, embed_size, num_layers, heads):\n",
        "        super().__init__()\n",
        "        self.embed_tokens = nn.Embedding(vocab_size, embed_size)\n",
        "        self.positional_encodings = nn.Parameter(torch.zeros(1, block_size, embed_size))\n",
        "        self.layers = nn.ModuleList([TransformerBlock(embed_size, heads) for _ in range(num_layers)])\n",
        "        self.dropout = nn.Dropout(dropout)\n",
        "        self.fc_out = nn.Linear(embed_size, vocab_size)\n",
        "\n",
        "    def forward(self, x):\n",
        "        N, seq_length = x.shape\n",
        "        positions = torch.arange(0, seq_length).unsqueeze(0)\n",
        "\n",
        "        out = self.dropout(self.embed_tokens(x) + self.positional_encodings[:, :seq_length, :])\n",
        "\n",
        "        for layer in self.layers:\n",
        "            out = layer(out, out, out)\n",
        "\n",
        "        out = self.fc_out(out)\n",
        "        return out\n"
      ],
      "metadata": {
        "id": "hB_4tQtSMi4I"
      },
      "execution_count": 6,
      "outputs": []
    },
    {
      "cell_type": "code",
      "source": [
        "import torch.optim as optim\n",
        "\n",
        "# Assume train_data and val_data are already defined and loaded as tensors\n",
        "# train_data: Training dataset\n",
        "# val_data: Validation dataset\n",
        "\n",
        "device = torch.device('cuda' if torch.cuda.is_available() else 'cpu')\n",
        "\n",
        "# Hyperparameters\n",
        "batch_size = 64\n",
        "learning_rate = 0.001\n",
        "epochs = 50\n",
        "seq_length = 100  # Length of the sequence of tokens for training\n",
        "\n",
        "# Model instantiation\n",
        "model = GPT(vocab_size=vocab_size, embed_size=n_embd, num_layers=n_layer, heads=n_head).to(device)\n",
        "optimizer = optim.Adam(model.parameters(), lr=learning_rate)\n",
        "criterion = nn.CrossEntropyLoss()\n",
        "\n",
        "# Function to generate batches\n",
        "def get_batch(dataset, seq_length, batch_size):\n",
        "    for i in range(0, len(dataset) - seq_length, batch_size):\n",
        "        input_batch = dataset[i:i+seq_length].unsqueeze(0)\n",
        "        target_batch = dataset[i+1:i+seq_length+1].unsqueeze(0)\n",
        "        yield input_batch.to(device), target_batch.to(device)\n",
        "\n",
        "# Training loop\n",
        "for epoch in range(epochs):\n",
        "    model.train()\n",
        "    for input_batch, target_batch in get_batch(train_data, seq_length, batch_size):\n",
        "        optimizer.zero_grad()\n",
        "        output = model(input_batch)\n",
        "        loss = criterion(output.transpose(1, 2), target_batch)\n",
        "        loss.backward()\n",
        "        optimizer.step()\n",
        "\n",
        "    # Evaluation loop\n",
        "    model.eval()\n",
        "    total_loss = 0\n",
        "    with torch.no_grad():\n",
        "        for input_batch, target_batch in get_batch(val_data, seq_length, batch_size):\n",
        "            output = model(input_batch)\n",
        "            loss = criterion(output.transpose(1, 2), target_batch)\n",
        "            total_loss += loss.item()\n",
        "    print(f'Epoch {epoch+1}, Loss: {total_loss:.4f}')\n",
        "\n",
        "print(\"Training completed.\")\n"
      ],
      "metadata": {
        "id": "ITPqNlDoMkiH"
      },
      "execution_count": null,
      "outputs": []
    },
    {
      "cell_type": "code",
      "source": [
        "def generate_text(model, start_text, generation_length=100):\n",
        "    model.eval()\n",
        "    start_text_encoded = torch.tensor(encode(start_text), dtype=torch.long).unsqueeze(0).to(device)\n",
        "    generated_text = start_text_encoded\n",
        "\n",
        "    with torch.no_grad():\n",
        "        for _ in range(generation_length):\n",
        "            output = model(generated_text)\n",
        "            last_logits = output[:, -1, :]\n",
        "            # Sample from the distribution or you can use top-k sampling for better quality\n",
        "            predicted_token = torch.multinomial(F.softmax(last_logits, dim=-1), num_samples=1)\n",
        "            generated_text = torch.cat((generated_text, predicted_token), dim=1)\n",
        "\n",
        "    return decode(generated_text[0].tolist())\n",
        "\n",
        "# Generate text with the trained model\n",
        "start_text = \"The adventure\"\n",
        "generated_sequence = generate_text(model, start_text, generation_length=200)\n",
        "print(generated_sequence)\n"
      ],
      "metadata": {
        "id": "hKs89gpRMoCm"
      },
      "execution_count": null,
      "outputs": []
    }
  ]
}